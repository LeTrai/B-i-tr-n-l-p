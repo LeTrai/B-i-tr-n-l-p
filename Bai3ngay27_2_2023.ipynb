{
  "nbformat": 4,
  "nbformat_minor": 0,
  "metadata": {
    "colab": {
      "provenance": [],
      "authorship_tag": "ABX9TyNkKc+DR1iz90n41hHhmGwF",
      "include_colab_link": true
    },
    "kernelspec": {
      "name": "python3",
      "display_name": "Python 3"
    },
    "language_info": {
      "name": "python"
    }
  },
  "cells": [
    {
      "cell_type": "markdown",
      "metadata": {
        "id": "view-in-github",
        "colab_type": "text"
      },
      "source": [
        "<a href=\"https://colab.research.google.com/github/LeTrai/Tuan5/blob/main/Bai3ngay27_2_2023.ipynb\" target=\"_parent\"><img src=\"https://colab.research.google.com/assets/colab-badge.svg\" alt=\"Open In Colab\"/></a>"
      ]
    },
    {
      "cell_type": "code",
      "execution_count": 1,
      "metadata": {
        "colab": {
          "base_uri": "https://localhost:8080/"
        },
        "id": "TXrvwjYJuszd",
        "outputId": "3221b4b7-28bf-44a4-9208-e35aa36b4406"
      },
      "outputs": [
        {
          "output_type": "stream",
          "name": "stdout",
          "text": [
            "Looking in indexes: https://pypi.org/simple, https://us-python.pkg.dev/colab-wheels/public/simple/\n",
            "Collecting scikit-fuzzy\n",
            "  Downloading scikit-fuzzy-0.4.2.tar.gz (993 kB)\n",
            "\u001b[2K     \u001b[90m━━━━━━━━━━━━━━━━━━━━━━━━━━━━━━━━━━━━━━\u001b[0m \u001b[32m994.0/994.0 KB\u001b[0m \u001b[31m16.3 MB/s\u001b[0m eta \u001b[36m0:00:00\u001b[0m\n",
            "\u001b[?25h  Preparing metadata (setup.py) ... \u001b[?25l\u001b[?25hdone\n",
            "Requirement already satisfied: numpy>=1.6.0 in /usr/local/lib/python3.8/dist-packages (from scikit-fuzzy) (1.22.4)\n",
            "Requirement already satisfied: scipy>=0.9.0 in /usr/local/lib/python3.8/dist-packages (from scikit-fuzzy) (1.7.3)\n",
            "Requirement already satisfied: networkx>=1.9.0 in /usr/local/lib/python3.8/dist-packages (from scikit-fuzzy) (3.0)\n",
            "Building wheels for collected packages: scikit-fuzzy\n",
            "  Building wheel for scikit-fuzzy (setup.py) ... \u001b[?25l\u001b[?25hdone\n",
            "  Created wheel for scikit-fuzzy: filename=scikit_fuzzy-0.4.2-py3-none-any.whl size=894088 sha256=0fe455d09c9f69b437a1392e2f9b33f3f288f967397e5150b040327313f61ead\n",
            "  Stored in directory: /root/.cache/pip/wheels/2c/04/80/7eefb1a2de7d36aefd06432fab2a1486caf0a0596a7067391a\n",
            "Successfully built scikit-fuzzy\n",
            "Installing collected packages: scikit-fuzzy\n",
            "Successfully installed scikit-fuzzy-0.4.2\n"
          ]
        }
      ],
      "source": [
        "pip install -U scikit-fuzzy"
      ]
    },
    {
      "cell_type": "code",
      "source": [
        "import numpy as np\n",
        "import skfuzzy as fuzz\n",
        "from skfuzzy import control as ctrl"
      ],
      "metadata": {
        "id": "pe6v_HSpwPV9"
      },
      "execution_count": 2,
      "outputs": []
    },
    {
      "cell_type": "code",
      "source": [
        "rice = ctrl.Antecedent(np.arange(100,2000,10),'rice')\n",
        "time = ctrl.Antecedent(np.arange(10,100,5),'time')\n",
        "power = ctrl.Antecedent(np.arange(0,100,1),'power')\n",
        "\n",
        "rice['veryless'] = fuzz.trampmf(rice.universe,[100,150,250,300])\n",
        "rice['less'] = fuzz.trampmf(rice.universe,[300,350,450,500])\n",
        "rice['average'] = fuzz.trampmf(rice.universe,[500,600,1400,1500])\n",
        "rice['much'] = fuzz.trampmf(rice.universe,[1500,1550,1650,1700])\n",
        "rice['verymuch'] = fuzz.trampmf(rice.universe,[1700,1750,1950,2000])\n",
        "\n",
        "time['verylow'] = fuzz.trampmf(rice.universe,[75,80,85,90])\n",
        "time['low'] = fuzz.trampmf(rice.universe,[60,65,70,75])\n",
        "time['average'] = fuzz.trampmf(rice.universe,[40,45,55,60])\n",
        "time['fast'] = fuzz.trampmf(rice.universe,[25,30,35,40])\n",
        "time['veryfast'] = fuzz.trampmf(rice.universe,[10,15,20,25])\n",
        "\n",
        "power['verystrong'] = fuzz.trampmf(rice.universe,[85,90,95,100])\n",
        "power['strong'] = fuzz.trampmf(rice.universe,[70,75,80,85])\n",
        "power['average'] = fuzz.trampmf(rice.universe,[30,40,60,70])\n",
        "power['weak'] = fuzz.trampmf(rice.universe,[15,20,25,30])\n",
        "power['veryweak'] = fuzz.trampmf(rice.universe,[0,5,10,15])\n",
        "\n",
        "rice.view()\n",
        "time.view()\n",
        "power.view()"
      ],
      "metadata": {
        "id": "9UBGPVqAxHNw"
      },
      "execution_count": null,
      "outputs": []
    }
  ]
}